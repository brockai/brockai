{
 "cells": [
  {
   "cell_type": "code",
   "execution_count": 20,
   "metadata": {},
   "outputs": [],
   "source": [
    "import logging\n",
    "\n",
    "logging.basicConfig(format=\"%(levelname)s - %(name)s -  %(message)s\", level=logging.WARNING)\n",
    "logging.getLogger(\"haystack\").setLevel(logging.INFO)\n"
   ]
  },
  {
   "cell_type": "code",
   "execution_count": 27,
   "metadata": {},
   "outputs": [],
   "source": [
    "import os\n",
    "\n",
    "from haystack.document_stores import ElasticsearchDocumentStore\n",
    "from haystack.document_stores import BaseDocumentStore\n",
    "# Get the host where Elasticsearch is running, default to localhost\n",
    "#host = os.environ.get(\"ELASTICSEARCH_HOST\", \"localhost\")\n",
    "# document_store = ElasticsearchDocumentStore\n",
    "document_store = ElasticsearchDocumentStore(host=\"localhost\", port=\"9200\", index=\"bom123\")\n",
    "# document_store = OpenSearchDocumentStore(host=\"localhost\", port=\"9200\", index=\"bom123\")"
   ]
  },
  {
   "cell_type": "code",
   "execution_count": 22,
   "metadata": {},
   "outputs": [
    {
     "name": "stderr",
     "output_type": "stream",
     "text": [
      "INFO - haystack.utils.import_utils -  Found data stored in 'data/build_a_scalable_question_answering_system'. Delete this first if you really want to fetch new data.\n"
     ]
    },
    {
     "data": {
      "text/plain": [
       "False"
      ]
     },
     "execution_count": 22,
     "metadata": {},
     "output_type": "execute_result"
    }
   ],
   "source": [
    "from haystack.utils import fetch_archive_from_http\n",
    "\n",
    "doc_dir = \"data/build_a_scalable_question_answering_system\"\n",
    "\n",
    "fetch_archive_from_http(\n",
    "    url=\"https://s3.eu-central-1.amazonaws.com/deepset.ai-farm-qa/datasets/documents/wiki_gameofthrones_txt3.zip\",\n",
    "    output_dir=doc_dir,\n",
    ")\n"
   ]
  },
  {
   "cell_type": "code",
   "execution_count": 28,
   "metadata": {},
   "outputs": [],
   "source": [
    "from haystack import Pipeline\n",
    "from haystack.nodes import TextConverter, PreProcessor\n",
    "\n",
    "indexing_pipeline = Pipeline()\n",
    "text_converter = TextConverter()\n",
    "preprocessor = PreProcessor(\n",
    "    clean_whitespace=True,\n",
    "    clean_header_footer=True,\n",
    "    clean_empty_lines=True,\n",
    "    split_by=\"word\",\n",
    "    split_length=200,\n",
    "    split_overlap=20,\n",
    "    split_respect_sentence_boundary=True,\n",
    ")\n"
   ]
  },
  {
   "cell_type": "code",
   "execution_count": 24,
   "metadata": {},
   "outputs": [],
   "source": [
    "import os\n",
    "\n",
    "indexing_pipeline.add_node(component=text_converter, name=\"TextConverter\", inputs=[\"File\"])\n",
    "indexing_pipeline.add_node(component=preprocessor, name=\"PreProcessor\", inputs=[\"TextConverter\"])\n",
    "indexing_pipeline.add_node(component=document_store, name=\"DocumentStore\", inputs=[\"PreProcessor\"])\n"
   ]
  },
  {
   "cell_type": "code",
   "execution_count": null,
   "metadata": {},
   "outputs": [],
   "source": [
    "files_to_index = [doc_dir + \"/\" + f for f in os.listdir(doc_dir)]\n",
    "indexing_pipeline.run_batch(file_paths=files_to_index)"
   ]
  },
  {
   "cell_type": "code",
   "execution_count": 26,
   "metadata": {},
   "outputs": [],
   "source": [
    "from haystack.nodes import BM25Retriever\n",
    "\n",
    "retriever = BM25Retriever(document_store=document_store)\n"
   ]
  },
  {
   "cell_type": "code",
   "execution_count": 27,
   "metadata": {},
   "outputs": [
    {
     "name": "stderr",
     "output_type": "stream",
     "text": [
      "INFO - haystack.modeling.utils -  Using devices: CPU - Number of GPUs: 0\n",
      "INFO - haystack.modeling.utils -  Using devices: CPU - Number of GPUs: 0\n",
      "Downloading (…)lve/main/config.json: 100%|██████████| 571/571 [00:00<00:00, 75.3kB/s]\n",
      "INFO - haystack.modeling.model.language_model -   * LOADING MODEL: 'deepset/roberta-base-squad2' (Roberta)\n",
      "Downloading model.safetensors: 100%|██████████| 496M/496M [00:30<00:00, 16.5MB/s] \n",
      "INFO - haystack.modeling.model.language_model -  Auto-detected model language: english\n",
      "INFO - haystack.modeling.model.language_model -  Loaded 'deepset/roberta-base-squad2' (Roberta model) from model hub.\n",
      "Downloading (…)okenizer_config.json: 100%|██████████| 79.0/79.0 [00:00<00:00, 8.34kB/s]\n",
      "Downloading (…)olve/main/vocab.json: 100%|██████████| 899k/899k [00:00<00:00, 7.91MB/s]\n",
      "Downloading (…)olve/main/merges.txt: 100%|██████████| 456k/456k [00:00<00:00, 23.1MB/s]\n",
      "Downloading (…)cial_tokens_map.json: 100%|██████████| 772/772 [00:00<00:00, 226kB/s]\n",
      "INFO - haystack.modeling.utils -  Using devices: CPU - Number of GPUs: 0\n"
     ]
    }
   ],
   "source": [
    "from haystack.nodes import FARMReader\n",
    "\n",
    "reader = FARMReader(model_name_or_path=\"deepset/roberta-base-squad2\", use_gpu=True)\n"
   ]
  },
  {
   "cell_type": "code",
   "execution_count": 28,
   "metadata": {},
   "outputs": [],
   "source": [
    "from haystack import Pipeline\n",
    "\n",
    "querying_pipeline = Pipeline()\n",
    "querying_pipeline.add_node(component=retriever, name=\"Retriever\", inputs=[\"Query\"])\n",
    "querying_pipeline.add_node(component=reader, name=\"Reader\", inputs=[\"Retriever\"])\n"
   ]
  },
  {
   "cell_type": "code",
   "execution_count": 29,
   "metadata": {},
   "outputs": [
    {
     "name": "stderr",
     "output_type": "stream",
     "text": [
      "Inferencing Samples: 100%|██████████| 1/1 [00:05<00:00,  5.38s/ Batches]\n"
     ]
    }
   ],
   "source": [
    "prediction = querying_pipeline.run(\n",
    "    query=\"Who is the father of Arya Stark?\", params={\"Retriever\": {\"top_k\": 10}, \"Reader\": {\"top_k\": 5}}\n",
    ")\n"
   ]
  },
  {
   "cell_type": "code",
   "execution_count": 30,
   "metadata": {},
   "outputs": [
    {
     "name": "stdout",
     "output_type": "stream",
     "text": [
      "{'answers': [<Answer {'answer': 'Eddard', 'type': 'extractive', 'score': 0.9933727979660034, 'context': \"s Nymeria after a legendary warrior queen. She travels with her father, Eddard, to King's Landing when he is made Hand of the King. Before she leaves,\", 'offsets_in_document': [{'start': 207, 'end': 213}], 'offsets_in_context': [{'start': 72, 'end': 78}], 'document_ids': ['9e3c863097d66aeed9992e0b6bf1f2f4'], 'meta': {'_split_id': 4, '_split_overlap': [{'range': [0, 266], 'doc_id': '241c8775e39c6c937c67bbd10ccc471c'}, {'range': [960, 1200], 'doc_id': '87e8469dcf7354fd2a25fbd2ba07c543'}]}}>,\n",
      "             <Answer {'answer': 'Ned', 'type': 'extractive', 'score': 0.9753610491752625, 'context': \"k in the television series.\\n\\n====Season 1====\\nArya accompanies her father Ned and her sister Sansa to King's Landing. Before their departure, Arya's h\", 'offsets_in_document': [{'start': 630, 'end': 633}], 'offsets_in_context': [{'start': 74, 'end': 77}], 'document_ids': ['7d3360fa29130e69ea6b2ba5c5a8f9c8'], 'meta': {'_split_id': 13, '_split_overlap': [{'range': [0, 235], 'doc_id': 'e49395627d81a9d3a1c889db7f701b4'}, {'range': [949, 1168], 'doc_id': '653abd42ad47a1f7cbb188875a8d9e25'}]}}>,\n",
      "             <Answer {'answer': 'Lord Eddard Stark', 'type': 'extractive', 'score': 0.9566042423248291, 'context': 'rk daughters.\\n\\nDuring the Tourney of the Hand to honour her father Lord Eddard Stark, Sansa Stark is enchanted by the knights performing in the event.', 'offsets_in_document': [{'start': 804, 'end': 821}], 'offsets_in_context': [{'start': 67, 'end': 84}], 'document_ids': ['a80ae4f1d1187bde6a34a29aeeb0837d'], 'meta': {'_split_id': 3, '_split_overlap': [{'range': [0, 99], 'doc_id': '244e2a5926e7f89b5f267a9d99493c97'}, {'range': [889, 1110], 'doc_id': 'c4ea66d17668dd910673351c384d29d5'}]}}>,\n",
      "             <Answer {'answer': 'Joffrey', 'type': 'extractive', 'score': 0.6413299441337585, 'context': \"Mycah, sparring in the woods with broomsticks.  Arya defends Mycah from Joffrey's torments and her direwolf Nymeria helps Arya fight off Joffrey, woun\", 'offsets_in_document': [{'start': 634, 'end': 641}], 'offsets_in_context': [{'start': 72, 'end': 79}], 'document_ids': ['9e3c863097d66aeed9992e0b6bf1f2f4'], 'meta': {'_split_id': 4, '_split_overlap': [{'range': [0, 266], 'doc_id': '241c8775e39c6c937c67bbd10ccc471c'}, {'range': [960, 1200], 'doc_id': '87e8469dcf7354fd2a25fbd2ba07c543'}]}}>,\n",
      "             <Answer {'answer': 'King Robert', 'type': 'extractive', 'score': 0.5891156196594238, 'context': \"en refuses to yield Gendry, who is actually a bastard son of the late King Robert, to the Lannisters.  The Night's Watch convoy is overrun and massacr\", 'offsets_in_document': [{'start': 820, 'end': 831}], 'offsets_in_context': [{'start': 70, 'end': 81}], 'document_ids': ['87e8469dcf7354fd2a25fbd2ba07c543'], 'meta': {'_split_id': 5, '_split_overlap': [{'range': [0, 240], 'doc_id': '9e3c863097d66aeed9992e0b6bf1f2f4'}, {'range': [962, 1184], 'doc_id': 'c056004103e1e9eeb382381b3c776f5d'}]}}>],\n",
      " 'documents': [<Document: {'content': '== Storylines ==\\n=== Novels ===\\n==== \\'\\'A Game of Thrones\\'\\' ====\\nCoat of arms of House Stark\\n\\nArya adopts a direwolf cub, which she names Nymeria after a legendary warrior queen. She travels with her father, Eddard, to King\\'s Landing when he is made Hand of the King. Before she leaves, her half-brother Jon Snow has a smallsword made for her as a parting gift, which she names \"Needle\" after her least favorite ladylike activity.\\n\\nWhile taking a walk together, Prince Joffrey and her sister Sansa happen upon Arya and her friend, the low-born butcher apprentice Mycah, sparring in the woods with broomsticks.  Arya defends Mycah from Joffrey\\'s torments and her direwolf Nymeria helps Arya fight off Joffrey, wounding his arm in the process.  Knowing that Nymeria will likely be killed in retribution, Arya chases her wolf away; but Sansa\\'s direwolf Lady is killed in Nymeria\\'s stead and Mycah is hunted down and killed by Sandor Clegane, Joffrey\\'s bodyguard.\\n\\nIn King\\'s Landing, her father discovers Arya\\'s possession of Needle, but instead of confiscating it he arranges for fencing lessons under the Braavosi swordmaster Syrio Forel, who teaches her the style of fighting known as \"water dancing\".  ', 'content_type': 'text', 'score': 0.7666465067367613, 'meta': {'_split_id': 4, '_split_overlap': [{'range': [0, 266], 'doc_id': '241c8775e39c6c937c67bbd10ccc471c'}, {'range': [960, 1200], 'doc_id': '87e8469dcf7354fd2a25fbd2ba07c543'}]}, 'id_hash_keys': ['content'], 'embedding': None, 'id': '9e3c863097d66aeed9992e0b6bf1f2f4'}>,\n",
      "               <Document: {'content': \"She was also the future bride of Prince Joffrey, and thus the future Queen of the Seven Kingdoms as well. She names her direwolf Lady; she is the smallest of the pack and the first to die, sentenced to death by Cersei after Arya's direwolf, Nymeria, bit a violent Joffrey.\\n\\n===Arya Stark===\\nMaisie Williams\\n\\n'''Arya Stark''' portrayed by Maisie Williams. Arya Stark of House Stark is the younger daughter and third child of Lord Eddard and Catelyn Stark of Winterfell. Ever the tomboy, Arya would rather be training to use weapons than sewing with a needle. She names her direwolf Nymeria, after a legendary warrior queen.\\n\\n===Robb Stark===\\nRichard Madden\\n\\n'''Robb Stark''' (seasons 1–3) portrayed by Richard Madden. Robb Stark of House Stark is the eldest son of Eddard and Catelyn Stark and the heir to Winterfell. His dire wolf is called Grey Wind. Robb becomes involved in the war against the Lannisters after his father, Ned Stark, is arrested for treason. Robb summons his bannermen for war against House Lannister and marches to the Riverlands. Eventually, crossing the river at the Twins becomes strategically necessary. \", 'content_type': 'text', 'score': 0.7524122846680525, 'meta': {'_split_id': 17, '_split_overlap': [{'range': [0, 105], 'doc_id': 'eb88ae1b1c38780164f39d99aab5b59e'}, {'range': [962, 1128], 'doc_id': '697049b2034dc9a8e9d5ec59027af7a2'}]}, 'id_hash_keys': ['content'], 'embedding': None, 'id': '726b0655306246943c29202b25bd4733'}>,\n",
      "               <Document: {'content': 'When Rafford begs for a healer, Arya cuts his throat in the same fashion as he had killed Lommy and throws his corpse into a canal.  She heads back to perform the play, knowing this murder will most likely ruin her Mercedene identity.\\n\\n=== Family tree of House Stark ===\\n\\n=== Television series ===\\n\\nArya Stark is portrayed by English actress Maisie Williams in the television adaption of the book series, this being Williams\\' first role as an actress. Williams was chosen from among 300 actresses across England.\\nMaisie Williams plays the role of Arya Stark in the television series.\\n\\n====Season 1====\\nArya accompanies her father Ned and her sister Sansa to King\\'s Landing. Before their departure, Arya\\'s half-brother Jon Snow gifts Arya a sword which she dubs \"Needle\". On the Kingsroad, Arya is sparring with a butcher\\'s boy, Mycah, when Sansa\\'s betrothed Prince Joffrey Baratheon attacks Mycah, prompting Arya\\'s direwolf Nymeria to bite Joffrey. Arya shoos Nymeria away so she is not killed, but is furious when Sansa later refuses to support her version of events. Mycah is later killed by Joffrey\\'s bodyguard Sandor \"The Hound\" Clegane, earning him Arya\\'s hatred. ', 'content_type': 'text', 'score': 0.7474909767058237, 'meta': {'_split_id': 13, '_split_overlap': [{'range': [0, 235], 'doc_id': 'e49395627d81a9d3a1c889db7f701b4'}, {'range': [949, 1168], 'doc_id': '653abd42ad47a1f7cbb188875a8d9e25'}]}, 'id_hash_keys': ['content'], 'embedding': None, 'id': '7d3360fa29130e69ea6b2ba5c5a8f9c8'}>,\n",
      "               <Document: {'content': 'She is the most beautiful woman in Westeros at the time of the events of \"A Song of Ice and Fire\".\\n\\n==Storylines==\\nCoat of arms of House Stark\\n\\n===\\'\\'A Game of Thrones\\'\\'===\\n\\nSansa Stark begins the novel by being betrothed to Crown Prince Joffrey Baratheon, believing Joffrey to be a gallant prince. While Joffrey and Sansa are walking through the woods, Joffrey notices Arya sparring with the butcher\\'s boy, Mycah. A fight breaks out and Joffrey is attacked by Nymeria (Arya\\'s direwolf) after Joffrey threatens to hurt Arya. Sansa lies to King Robert about the circumstances of the fight in order to protect both Joffrey and her sister Arya.  Since Arya ran off with her wolf to save it, Sansa\\'s wolf is killed instead, estranging the Stark daughters.\\n\\nDuring the Tourney of the Hand to honour her father Lord Eddard Stark, Sansa Stark is enchanted by the knights performing in the event.  At the request of his mother, Queen Cersei Lannister, Joffrey spends a portion of the tourney with Sansa, but near the end he commands his guard Sandor Clegane, better known as The Hound, to take her back to her quarters. ', 'content_type': 'text', 'score': 0.7452338269957905, 'meta': {'_split_id': 3, '_split_overlap': [{'range': [0, 99], 'doc_id': '244e2a5926e7f89b5f267a9d99493c97'}, {'range': [889, 1110], 'doc_id': 'c4ea66d17668dd910673351c384d29d5'}]}, 'id_hash_keys': ['content'], 'embedding': None, 'id': 'a80ae4f1d1187bde6a34a29aeeb0837d'}>,\n",
      "               <Document: {'content': '* \\'\\'\\'Lothar Frey\\'\\'\\' (seasons 3, 6) portrayed by Tom Brooke in season 3, and by Daniel Tuite in season 6. One of Lord Walder Frey\\'s many sons, nicknamed “Lame Lothar” because of his twisted leg. He and his half-brother Black Walder are sent by their father to Riverrun to propose a marriage between Lord Edmure Tully and Roslin Frey as terms for House Frey rejoining Robb Stark\\'s campaign against the Lannisters. He is one of the first to commence the \"Red Wedding\", stabbing Talisa Stark in the womb several times and killing her and her unborn child. In the sixth season, he is ordered by Walder to retake Riverrun from Brynden Tully. Though they succeed with Lannister help, he is killed by Arya Stark, who subsequently bakes him into a pie.\\n* \\'\\'\\'Black Walder Rivers\\'\\'\\' (seasons 3, 6) portrayed by Tim Plester. One of Lord Walder Frey\\'s many bastard sons, nicknamed “Black Walder” for his dark demeanor. He and his half-brother Lame Lothar are sent by their father to Riverrun to propose a marriage between Lord Edmure Tully and Roslin Frey as terms for House Frey rejoining Robb Stark\\'s campaign against the Lannister. ', 'content_type': 'text', 'score': 0.7447136878768036, 'meta': {'_split_id': 71, '_split_overlap': [{'range': [0, 104], 'doc_id': '5be30637fd1d2937cfad37edf31a8781'}, {'range': [906, 1121], 'doc_id': '99f108411616a2bc6724f10ce4536645'}]}, 'id_hash_keys': ['content'], 'embedding': None, 'id': 'ef7ad089df4cc85d00e671a3f32153a4'}>,\n",
      "               <Document: {'content': 'In King\\'s Landing, her father discovers Arya\\'s possession of Needle, but instead of confiscating it he arranges for fencing lessons under the Braavosi swordmaster Syrio Forel, who teaches her the style of fighting known as \"water dancing\".  After her father\\'s arrest, Syrio is killed protecting her and Arya narrowly escapes capture.  She later witnesses the public execution of her father before falling under the protection of the Night\\'s Watch recruiter Yoren.\\n\\n==== \\'\\'A Clash of Kings\\'\\' ====\\nArya escapes King\\'s Landing with Yoren and his party of recruits; and on the road, she clashes with the other Night\\'s Watch child recruits Lommy, Gendry, and Hot Pie but eventually befriends them. On the way, the party is attacked by Amory Lorch when Yoren refuses to yield Gendry, who is actually a bastard son of the late King Robert, to the Lannisters.  The Night\\'s Watch convoy is overrun and massacred, but Arya and the other children escape through a tunnel.  Before escaping, she rescues three prisoners locked in a wagon cage, among them a mysterious man named Jaqen H\\'ghar.\\n\\nArya and her friends are later captured by Ser Gregor Clegane and taken to Harrenhal as slave laborers.  ', 'content_type': 'text', 'score': 0.740692558914948, 'meta': {'_split_id': 5, '_split_overlap': [{'range': [0, 240], 'doc_id': '9e3c863097d66aeed9992e0b6bf1f2f4'}, {'range': [962, 1184], 'doc_id': 'c056004103e1e9eeb382381b3c776f5d'}]}, 'id_hash_keys': ['content'], 'embedding': None, 'id': '87e8469dcf7354fd2a25fbd2ba07c543'}>,\n",
      "               <Document: {'content': \"===On the Iron Islands===\\nReturning to his homeland, Theon Greyjoy tries to seduce a young woman, Yara. At Pyke, Theon presents his father Balon with Robb's offer that will make Balon King of the Iron Islands. Balon refuses, wishing to take his crown with Yara, revealed to be Theon's sister, at the helm of his fleet. Theon realises Balon's intention is to take the North for himself.\\n\\n===In the Red Waste===\\nRakharo's horse returns to Daenerys Targaryen's camp carrying his severed head, which Ser Jorah Mormont explains is a message from another khal, and Daenerys vows revenge.\\n\\n===On the Kingsroad===\\nCity Watchmen search the caravan for Gendry but are turned away by Yoren. Gendry tells Arya Stark that he knows she is a girl, and she reveals she is actually Arya Stark after learning that her father met Gendry before he was executed.\\n\\n===At Craster's Keep===\\nSamwell Tarly asks Jon Snow about taking Gilly, one of Craster's daughter-wives, with them but Jon refuses. Gilly is pregnant, and Jon wonders what happens to Craster's sons. That night, Jon follows Craster taking a newborn child into the woods, and sees a White Walker retrieve the baby, but Craster knocks Jon unconscious.\\n\\n\", 'content_type': 'text', 'score': 0.7354745312879696, 'meta': {'_split_id': 2, '_split_overlap': [{'range': [0, 209], 'doc_id': '6b872bd2585cd63b097ec40a38d4933f'}, {'range': [1042, 1192], 'doc_id': 'b89b1728d37d3eb4af9dc978160c12f8'}]}, 'id_hash_keys': ['content'], 'embedding': None, 'id': '8a495456ded3ab7e15cd66c6d3ca82ad'}>,\n",
      "               <Document: {'content': 'Tyrion is consigned to the Eyrie\\'s \"sky cells\" while Lysa prepares to pass judgment on him as an accomplice in her husband\\'s murder.\\n\\n===In the North===\\nAt Winterfell, Theon Greyjoy grows jealous of Tyrion after his favorite prostitute Ros taunts him. To take Bran\\'s mind off his paralysis and his mother\\'s departure, Maester Luwin teaches him the Dothraki art of horseback archery.\\n\\n===In King\\'s Landing===\\nAfter Ned Stark convinces King Robert not to join the tourney, the crowd watches the fearsome Ser Gregor \"The Mountain\" Clegane joust with Ser Loras Tyrell, the \"Knight of Flowers\", who wins by riding a mare in heat, distracting Clegane\\'s stallion. Clegane beheads his horse and attempts to kill Loras, but Sandor \"The Hound\" Clegane intervenes.\\n\\nVarys reveals to Ned that Jon Arryn was killed by a poison called the \"Tears of Lys\", and suggests that Arryn\\'s slain squire Ser Hugh of the Vale was the poisoner.\\n\\nIn training, Arya chases a cat through the Red Keep and overhears a conversation between Varys and Illyrio, who appear to be plotting against the throne. Arya tries to warn her father but is unable to identify the plotters. ', 'content_type': 'text', 'score': 0.7350875083806473, 'meta': {'_split_id': 2, '_split_overlap': [{'range': [0, 133], 'doc_id': '252cf0165e96af9e18d23e3796c36857'}, {'range': [920, 1143], 'doc_id': 'cf9e6741ebdb92e03e9d4d15634b8592'}]}, 'id_hash_keys': ['content'], 'embedding': None, 'id': '1d850d17893da5959cd677e4d82c144'}>,\n",
      "               <Document: {'content': '\"Asha\" is portrayed as a fairly provocative and independent woman, a captain of thirty ships, as opposed to her television counterpart Yara, who did not retain \"Asha\\'s\" traits, although her rivalry with Theon remained intact. Their father Balon Greyjoy was played by Patrick Malahide. Many of the characters involved in the Greyjoys\\' storyline weren\\'t introduced, most notably Balon\\'s brother Aeron Greyjoy. Nonetheless, the storyline received enormous praise, with the alteration of Yara\\'s name and persona being the only criticism.\\n\\nTom Wlaschiha is cast as Jaqen H\\'ghar, a mysterious prisoner who develops a murderous relationship with young Arya Stark (Maisie Williams). Wlaschiha\\'s pronunciation of his character\\'s name, \\'\\'Jack-in\\'\\', was adopted for use in the show. Natalie Dormer, best known for her portrayal as seductive Anne Boleyn in Showtime\\'s \\'\\'The Tudors\\'\\', was cast in a similar role as Margaery Tyrell, a noblewoman and the wife of the third claimant to the throne, Renly Baratheon. Gwendoline Christie played, to much praise, Brienne of Tarth, a female warrior who joins Renly Baratheon\\'s guard, but later becomes a follower of Catelyn Stark. To prepare for the role, Christie took up an intense training regimen, adding over a stone (6.4\\xa0kg) of muscle mass. ', 'content_type': 'text', 'score': 0.7348211242262005, 'meta': {'_split_id': 8, '_split_overlap': [{'range': [0, 284], 'doc_id': 'fb9fcfcfc15f4cc93dd8fc9718cf6d26'}, {'range': [1160, 1275], 'doc_id': 'b222d5c242e652f9e916e806aa358e42'}]}, 'id_hash_keys': ['content'], 'embedding': None, 'id': '937a3c260025a30112a7a29da8d1d242'}>,\n",
      "               <Document: {'content': \"Decades before the events of ''A Game of Thrones'', he was sent to the Citadel in Oldtown on the orders of his grandfather Daeron II, who felt there were too many Targaryens, and became a Maester (one of an order of scholars and healers). He was later offered the throne of the Seven Kingdoms after the death of his father Maekar, but ceded the rule to Aegon and joined the Night's Watch. By ''A Game of Thrones'', he is elderly and blind, but provides guidance to the men of the Watch. In ''A Feast for Crows'', Jon Snow sends him to the Citadel by sea, but Maester Aemon dies on the voyage between Braavos and Oldtown.\\n\\nIn the HBO television adaptation, he is portrayed by Peter Vaughan.\\n\\n=== Yoren ===\\nYoren is a recruiter of the Night's Watch. In ''A Game of Thrones'' Yoren travels with Tyrion Lannister from the Wall to King's Landing, and is present when Tyrion is arrested by Catelyn Stark. He then races to King's Landing to inform Eddard Stark. During Lord Eddard's execution, he finds Arya Stark and shields her from seeing her father's death. \", 'content_type': 'text', 'score': 0.7310199917885002, 'meta': {'_split_id': 91, '_split_overlap': [{'range': [0, 238], 'doc_id': 'f916c6de28e6deff0553506c9028ab28'}, {'range': [899, 1054], 'doc_id': '89ca63d9986390e978146fc69f289170'}]}, 'id_hash_keys': ['content'], 'embedding': None, 'id': '1a134f1ce82ea118cb873dfd9ba090e2'}>],\n",
      " 'no_ans_gap': 11.405378818511963,\n",
      " 'node_id': 'Reader',\n",
      " 'params': {'Reader': {'top_k': 5}, 'Retriever': {'top_k': 10}},\n",
      " 'query': 'Who is the father of Arya Stark?',\n",
      " 'root_node': 'Query'}\n"
     ]
    }
   ],
   "source": [
    "from pprint import pprint\n",
    "\n",
    "pprint(prediction)"
   ]
  },
  {
   "cell_type": "code",
   "execution_count": 31,
   "metadata": {},
   "outputs": [
    {
     "name": "stdout",
     "output_type": "stream",
     "text": [
      "'Query: Who is the father of Arya Stark?'\n",
      "'Answers:'\n",
      "[   {   'answer': 'Eddard',\n",
      "        'context': 's Nymeria after a legendary warrior queen. She travels '\n",
      "                   \"with her father, Eddard, to King's Landing when he is made \"\n",
      "                   'Hand of the King. Before she leaves,'},\n",
      "    {   'answer': 'Ned',\n",
      "        'context': 'k in the television series.\\n'\n",
      "                   '\\n'\n",
      "                   '====Season 1====\\n'\n",
      "                   'Arya accompanies her father Ned and her sister Sansa to '\n",
      "                   \"King's Landing. Before their departure, Arya's h\"},\n",
      "    {   'answer': 'Lord Eddard Stark',\n",
      "        'context': 'rk daughters.\\n'\n",
      "                   '\\n'\n",
      "                   'During the Tourney of the Hand to honour her father Lord '\n",
      "                   'Eddard Stark, Sansa Stark is enchanted by the knights '\n",
      "                   'performing in the event.'},\n",
      "    {   'answer': 'Joffrey',\n",
      "        'context': 'Mycah, sparring in the woods with broomsticks.  Arya '\n",
      "                   \"defends Mycah from Joffrey's torments and her direwolf \"\n",
      "                   'Nymeria helps Arya fight off Joffrey, woun'},\n",
      "    {   'answer': 'King Robert',\n",
      "        'context': 'en refuses to yield Gendry, who is actually a bastard son '\n",
      "                   \"of the late King Robert, to the Lannisters.  The Night's \"\n",
      "                   'Watch convoy is overrun and massacr'}]\n"
     ]
    }
   ],
   "source": [
    "from haystack.utils import print_answers\n",
    "\n",
    "print_answers(prediction, details=\"minimum\")  ## Choose from `minimum`, `medium` and `all`\n"
   ]
  }
 ],
 "metadata": {
  "kernelspec": {
   "display_name": "dev",
   "language": "python",
   "name": "python3"
  },
  "language_info": {
   "codemirror_mode": {
    "name": "ipython",
    "version": 3
   },
   "file_extension": ".py",
   "mimetype": "text/x-python",
   "name": "python",
   "nbconvert_exporter": "python",
   "pygments_lexer": "ipython3",
   "version": "3.9.18"
  }
 },
 "nbformat": 4,
 "nbformat_minor": 2
}
