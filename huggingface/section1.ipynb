{
 "cells": [
  {
   "cell_type": "code",
   "execution_count": 6,
   "metadata": {},
   "outputs": [
    {
     "name": "stderr",
     "output_type": "stream",
     "text": [
      "No model was supplied, defaulted to distilbert-base-uncased-finetuned-sst-2-english and revision af0f99b (https://huggingface.co/distilbert-base-uncased-finetuned-sst-2-english).\n",
      "Using a pipeline without specifying a model name and revision in production is not recommended.\n"
     ]
    },
    {
     "data": {
      "text/plain": [
       "[{'label': 'NEGATIVE', 'score': 0.9995900988578796}]"
      ]
     },
     "execution_count": 6,
     "metadata": {},
     "output_type": "execute_result"
    }
   ],
   "source": [
    "# add judgement where good=under-threshold, bad=above-threshold\n",
    "from transformers import pipeline\n",
    "\n",
    "classifier = pipeline(\"sentiment-analysis\") \n",
    "classifier(\"93-144820-16S   16 WAY MS PLUG bad\")"
   ]
  },
  {
   "cell_type": "code",
   "execution_count": 2,
   "metadata": {},
   "outputs": [
    {
     "data": {
      "text/plain": [
       "[{'label': 'POSITIVE', 'score': 0.9598051905632019},\n",
       " {'label': 'NEGATIVE', 'score': 0.9994558691978455}]"
      ]
     },
     "execution_count": 2,
     "metadata": {},
     "output_type": "execute_result"
    }
   ],
   "source": [
    "classifier(\n",
    "    [\"I've been waiting for a HuggingFace course my whole life.\", \"I hate this so much!\"]\n",
    ")"
   ]
  },
  {
   "cell_type": "code",
   "execution_count": 3,
   "metadata": {},
   "outputs": [
    {
     "name": "stderr",
     "output_type": "stream",
     "text": [
      "No model was supplied, defaulted to facebook/bart-large-mnli and revision c626438 (https://huggingface.co/facebook/bart-large-mnli).\n",
      "Using a pipeline without specifying a model name and revision in production is not recommended.\n"
     ]
    },
    {
     "data": {
      "text/plain": [
       "{'sequence': '18GA LGRN TXL (S)',\n",
       " 'labels': ['part number', 'supplier'],\n",
       " 'scores': [0.9070765376091003, 0.09292352199554443]}"
      ]
     },
     "execution_count": 3,
     "metadata": {},
     "output_type": "execute_result"
    }
   ],
   "source": [
    "classifier = pipeline(\"zero-shot-classification\")\n",
    "classifier(\n",
    "    \"18GA LGRN TXL (S)\",\n",
    "    candidate_labels=[\"part number\", \"supplier\"],\n",
    ")"
   ]
  },
  {
   "cell_type": "code",
   "execution_count": 4,
   "metadata": {},
   "outputs": [
    {
     "name": "stderr",
     "output_type": "stream",
     "text": [
      "Setting `pad_token_id` to `eos_token_id`:50256 for open-end generation.\n"
     ]
    },
    {
     "data": {
      "text/plain": [
       "[{'generated_text': \"In this course, we will teach you how to convert to a functional language:\\n\\n\\nThe first problem I want you to understand is. For the first time, you'll see things that seem not simple enough to understand. But this is not all. This is one way to implement a functional language. This is not a language using Go. You'll have to learn to get the most out of it. And don't worry. We're going to create a language with both Go and Objective-C which is just like in Objective-C.\\nWe can see from an example example where we use C++ to create objects for a simple project.\\nWe know we need to use C++ to create a C++ object that is a C object and we need to add a value to a key for that, like the symbol of the key.\\nTo know what you're going to do there aren't even a lot of lines left in the beginning. I'm going to define three lines that we'll take to create a C object without a key in order to take on a new object.\\nA key is a key, and a key is the key. And we're going to be using a key for this. The key is the value of the current object.\\nThe key is the key. And we're going to be using a key that will be a key for that, like the symbol of the key. And if you've got the key to be a key, you'll want to change it to that value and change it.\\nOne of the basic things that I want to do is to define an object that is at first a simple object. For example, if you just add a value to a key, you're going to be able to access that key.\\nIn this case, we've created a key. And we know that if we create something and return that value, that key might have a value to that key, and we're going to use that value instead of trying to change it, because if we create that key, it will have a value.\\nWe're going to also create a value. And we'll be adding a value to that value, if it's not there, it will have something else with it. So, if we're using a key that has a value on it, that's where we're going to be taking this value.\\nBut I want to use a key that will be a key that will be a key that will be a key that will be a key that will be a key that will be a key that will be a key that is a key that will be a key that is a key that will be a key that is a key that are a key that are a key that is a key that is a key that is a key that is a key that is a key that is a key that is the key that is a key that is a key that is a key that is a key that is a key that is a key that is a key that is a key that is a key that is a key that is a key that is a key that is a key that is a key that is a key that is a key that is a key that is a key that is a key that is a key that is a key that is a key that is a key that is a key that is a key that is a key that is a key that is a key that is a key that is a key that is a key that is a key that is a key that is a key that is a key that is a key that is a key that is a key that is a key that is a key that is a key that is a key that is a key that is a key that is a key that is a key that is a key that has a key that is a key that is a key that is a key that is a key that is a key that is a key that is a key that is a key that is a key that is a part that is a key that is a key that is a part that is a part that is a part that is a part that is a part that is a part that is a part that is a part that is a part that is a part that is a part that is a part that is a part that is a part that is a part that is a part that is a part that is a part that\"},\n",
       " {'generated_text': 'In this course, we will teach you how to use C++ and C++.\\n\\n\\nIntroduction\\nHere’s a first-class class class with a basic knowledge about C++. It is called the ‐C++ Standard Class‑. Here it is called the ‐C++ Standard Class.'}]"
      ]
     },
     "execution_count": 4,
     "metadata": {},
     "output_type": "execute_result"
    }
   ],
   "source": [
    "generator = pipeline(\"text-generation\", model=\"distilgpt2\")\n",
    "generator(\"In this course, we will teach you how to\", num_return_sequences=2, max_length=900)"
   ]
  },
  {
   "cell_type": "code",
   "execution_count": 5,
   "metadata": {},
   "outputs": [
    {
     "name": "stderr",
     "output_type": "stream",
     "text": [
      "No model was supplied, defaulted to distilroberta-base and revision ec58a5b (https://huggingface.co/distilroberta-base).\n",
      "Using a pipeline without specifying a model name and revision in production is not recommended.\n",
      "Some weights of the model checkpoint at distilroberta-base were not used when initializing RobertaForMaskedLM: ['roberta.pooler.dense.bias', 'roberta.pooler.dense.weight']\n",
      "- This IS expected if you are initializing RobertaForMaskedLM from the checkpoint of a model trained on another task or with another architecture (e.g. initializing a BertForSequenceClassification model from a BertForPreTraining model).\n",
      "- This IS NOT expected if you are initializing RobertaForMaskedLM from the checkpoint of a model that you expect to be exactly identical (initializing a BertForSequenceClassification model from a BertForSequenceClassification model).\n"
     ]
    },
    {
     "data": {
      "text/plain": [
       "[{'score': 0.196197971701622,\n",
       "  'token': 30412,\n",
       "  'token_str': ' mathematical',\n",
       "  'sequence': 'This course will teach you all about mathematical models.'},\n",
       " {'score': 0.04052722081542015,\n",
       "  'token': 38163,\n",
       "  'token_str': ' computational',\n",
       "  'sequence': 'This course will teach you all about computational models.'},\n",
       " {'score': 0.033017974346876144,\n",
       "  'token': 27930,\n",
       "  'token_str': ' predictive',\n",
       "  'sequence': 'This course will teach you all about predictive models.'},\n",
       " {'score': 0.031941384077072144,\n",
       "  'token': 745,\n",
       "  'token_str': ' building',\n",
       "  'sequence': 'This course will teach you all about building models.'},\n",
       " {'score': 0.02452288754284382,\n",
       "  'token': 3034,\n",
       "  'token_str': ' computer',\n",
       "  'sequence': 'This course will teach you all about computer models.'}]"
      ]
     },
     "execution_count": 5,
     "metadata": {},
     "output_type": "execute_result"
    }
   ],
   "source": [
    "unmasker = pipeline(\"fill-mask\")\n",
    "unmasker(\"This course will teach you all about <mask> models.\", top_k=5)"
   ]
  }
 ],
 "metadata": {
  "kernelspec": {
   "display_name": "dev",
   "language": "python",
   "name": "python3"
  },
  "language_info": {
   "codemirror_mode": {
    "name": "ipython",
    "version": 3
   },
   "file_extension": ".py",
   "mimetype": "text/x-python",
   "name": "python",
   "nbconvert_exporter": "python",
   "pygments_lexer": "ipython3",
   "version": "3.9.18"
  }
 },
 "nbformat": 4,
 "nbformat_minor": 2
}
